{
 "cells": [
  {
   "cell_type": "code",
   "execution_count": 1,
   "id": "71efe8c8",
   "metadata": {},
   "outputs": [],
   "source": [
    "import pandas as pd\n",
    "#import dataset \n",
    "#önce xml xlsx'e dönüştü\n",
    "df = pd.read_excel(\"...your_path...\\\\sample_dataset.xlsx\", \n",
    "                   usecols=(\"Stok Kodu\",\"Fiyat\",\"Satışta\",\"Sayfa Sayısı\"))\n",
    "\n",
    "#Prices are corrected (Previous Sales Strategy was equal to 33% of Turkish Lira Prices)\n",
    "df[\"Fiyat\"] = df[\"Fiyat\"]/33*100\n",
    "\n",
    "#If the page number of a book is missing that book is considered 500 aligning with the company owner's decision\n",
    "df.loc[df[\"Sayfa Sayısı\"] == 0, \"Sayfa Sayısı\"] = 500\n",
    "\n",
    "\n",
    "#repricing strategy\n",
    "#the current currency is selected at 2.5.2023. Price per page, mark-up, and shipping cost are added followingly\n",
    "df[\"Fiyat\"] = df[\"Fiyat\"]/21.50+ df[\"Sayfa Sayısı\"]*0.01+5+3\n",
    "\n",
    "#Amazon collects a profit of 15% and 1 euro for each product. 8% VAT is also calculated. The final formula is below\n",
    "df[\"standard_price\"] = (df[\"Fiyat\"]*100+100)/77\n",
    "\n",
    "#the column that is no longer needed is dropped\n",
    "df = df.drop(columns=[\"Sayfa Sayısı\"])\n",
    "\n",
    "#rename\n",
    "df.rename({\"Stok Kodu\": \"SKU\"}, axis=1)\n",
    "\n",
    "#max ve min prices\n",
    "df.loc[df[\"Satışta\"] == \"y\", \"Min.-Price\"] = df[\"Fiyat\"]*0.85\n",
    "df.loc[df[\"Satışta\"] == \"y\", \"Max.-Price\"] = df[\"Fiyat\"]*1.2\n",
    "df.loc[df[\"Satışta\"] == \"n\", \"Min.-Price\"] = df[\"Fiyat\"]*3\n",
    "df.loc[df[\"Satışta\"] == \"n\", \"Max.-Price\"] = df[\"Fiyat\"]*4\n",
    "\n",
    "#the columns that are no longer needed are dropped\n",
    "df = df.drop(columns=[\"Fiyat\"])\n",
    "df = df.drop(columns=[\"Satışta\"])\n",
    "\n",
    "#A strategy was set in Snaptrade in advance considering the rival sellers\n",
    "df[\"Strategy\"]=1\n",
    "df[\"Repricing active\"]=1\n",
    "df.rename({'Stok Kodu': 'SKU'}, axis=1, inplace=True)\n",
    "\n",
    "#To solve decimal number problems in CSV files, they are removed\n",
    "df[\"Min.-Price\"] = df[\"Min.-Price\"].fillna(0.0).astype(int)\n",
    "df[\"Max.-Price\"] = df[\"Max.-Price\"].fillna(0.0).astype(int)\n",
    "df[\"SKU\"] = df[\"SKU\"].astype(str)\n",
    "\n",
    "#The excel will be resaved as CSV manually\n",
    "df.to_excel(r'C:\\\\Users\\\\Casper\\\\Desktop\\\\snap_prices.xlsx', index=False)"
   ]
  }
 ],
 "metadata": {
  "kernelspec": {
   "display_name": "Python 3 (ipykernel)",
   "language": "python",
   "name": "python3"
  },
  "language_info": {
   "codemirror_mode": {
    "name": "ipython",
    "version": 3
   },
   "file_extension": ".py",
   "mimetype": "text/x-python",
   "name": "python",
   "nbconvert_exporter": "python",
   "pygments_lexer": "ipython3",
   "version": "3.9.13"
  }
 },
 "nbformat": 4,
 "nbformat_minor": 5
}
